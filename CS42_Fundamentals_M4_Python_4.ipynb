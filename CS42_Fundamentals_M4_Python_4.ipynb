{
  "nbformat": 4,
  "nbformat_minor": 0,
  "metadata": {
    "colab": {
      "name": "Copy of CS42: Fundamentals: M4: Python 4",
      "provenance": [],
      "include_colab_link": true
    },
    "kernelspec": {
      "name": "python3",
      "display_name": "Python 3"
    },
    "language_info": {
      "name": "python"
    }
  },
  "cells": [
    {
      "cell_type": "markdown",
      "metadata": {
        "id": "view-in-github",
        "colab_type": "text"
      },
      "source": [
        "<a href=\"https://colab.research.google.com/github/juancaruizc/CS42_Fundamentals_M4_Python-4/blob/main/CS42_Fundamentals_M4_Python_4.ipynb\" target=\"_parent\"><img src=\"https://colab.research.google.com/assets/colab-badge.svg\" alt=\"Open In Colab\"/></a>"
      ]
    },
    {
      "cell_type": "markdown",
      "metadata": {
        "id": "xcGGIHEJNqmJ"
      },
      "source": [
        "# Python IV\n",
        "\n",
        "* In-place vs out-of-place\n",
        "* Time complexity\n",
        "* Space complexity\n",
        "\n",
        "**Attendance code: 9146**\n",
        "\n",
        "# In-place vs out-of-place algorithms\n",
        "\n",
        "We have an algorithm that generates data based on an input array.\n",
        "\n",
        "Question: do we overwrite the old data with the new data? (\"in-place\")\n",
        "\n",
        "Or do we make a new array to hold the new data, leaving the old one intact? (\"out-of-place\")\n"
      ]
    },
    {
      "cell_type": "code",
      "metadata": {
        "colab": {
          "base_uri": "https://localhost:8080/"
        },
        "id": "lqYoDEhVNpG1",
        "outputId": "86c00400-cbad-4790-e7c2-c66f5754b17f"
      },
      "source": [
        "#    0 1  2  3\n",
        "a = [0,11,22,33]\n",
        "\n",
        "def mult2(x):\n",
        "    for i in range(len(x)):\n",
        "        x[i] *= 2  # in-place, we reused the input array as the output array\n",
        "\n",
        "print(a)\n",
        "mult2(a)\n",
        "print(a)\n"
      ],
      "execution_count": null,
      "outputs": [
        {
          "output_type": "stream",
          "text": [
            "[0, 11, 22, 33]\n",
            "[0, 22, 44, 66]\n"
          ],
          "name": "stdout"
        }
      ]
    },
    {
      "cell_type": "code",
      "metadata": {
        "colab": {
          "base_uri": "https://localhost:8080/"
        },
        "id": "QaoWzWOLYHY0",
        "outputId": "549f6a55-a21d-4029-a4ed-2266ef49f115"
      },
      "source": [
        "#    0 1  2  3\n",
        "a = [0,11,22,33]\n",
        "\n",
        "def mult2(x):\n",
        "    \"\"\"\n",
        "    result = []  # New list holds result out-of-place\n",
        "\n",
        "    for v in x:\n",
        "        result.append(v * 2)\n",
        "    \"\"\"\n",
        "    \n",
        "    result = list(x)  # Copy the list\n",
        "\n",
        "    for i in range(len(result)):\n",
        "        result[i] *= 2\n",
        "\n",
        "    return result\n",
        "\n",
        "print(a)\n",
        "b = mult2(a)\n",
        "print(a)\n",
        "\n",
        "print(b)\n"
      ],
      "execution_count": null,
      "outputs": [
        {
          "output_type": "stream",
          "text": [
            "[0, 11, 22, 33]\n",
            "[0, 11, 22, 33]\n",
            "[0, 22, 44, 66]\n"
          ],
          "name": "stdout"
        }
      ]
    },
    {
      "cell_type": "code",
      "metadata": {
        "colab": {
          "base_uri": "https://localhost:8080/"
        },
        "id": "Tik5noznY4GO",
        "outputId": "d3de5de0-f251-40d6-8d7f-d00da2b53749"
      },
      "source": [
        "a = [5,8,2,0,3,5,7,1]\n",
        "\n",
        "print(sorted(a))  # out-of-place sort\n",
        "\n",
        "print(a)  # Will this be sorted now? No.\n",
        "\n",
        "a.sort()  # in-place sort\n",
        "\n",
        "print(a)  # Sorted now!\n",
        "\n",
        "def my_sorted(a):\n",
        "    c = list(a)   # copy a\n",
        "    c.sort()\n",
        "    return c\n",
        "\n",
        "print(my_sorted([5,8,2,4]))"
      ],
      "execution_count": null,
      "outputs": [
        {
          "output_type": "stream",
          "text": [
            "[0, 1, 2, 3, 5, 5, 7, 8]\n",
            "[5, 8, 2, 0, 3, 5, 7, 1]\n",
            "[0, 1, 2, 3, 5, 5, 7, 8]\n",
            "[2, 4, 5, 8]\n"
          ],
          "name": "stdout"
        }
      ]
    },
    {
      "cell_type": "markdown",
      "metadata": {
        "id": "sW3nzlYzb6nr"
      },
      "source": [
        "# Code Challenge\n",
        "\n",
        "## Find the Pivot Index\n",
        "\n",
        "### Understand\n",
        "\n",
        "The pivot index is the index of a number in a list where the sum of the numbers left and right of that index are equal.\n",
        "\n",
        "```\n",
        " 0 1 2 3 4 5\n",
        "[1,7,3,6,5,6]\n",
        " |||||   |||\n",
        "   11     11\n",
        "```\n",
        "pivot index is 3.\n",
        "\n",
        "The pivot will never be the first or last element.\n",
        "\n",
        "The input will always have at least 3 elements, will be all positive integers.\n",
        "\n",
        "If there are multiple pivots, return the smallest index (the leftmost pivot).\n",
        "\n",
        "Input: a list\n",
        "\n",
        "Output: the pivot index, or `-1` if there's no pivot\n",
        "\n",
        "```\n",
        "        v\n",
        "[3,9,12,42,20,4]\n",
        "```\n",
        "\n",
        "```\n",
        "[10,20,30,40,60]\n",
        " ||||||||    ||\n",
        "```\n",
        "\n",
        "```\n",
        "   v?\n",
        "0 [1,0]?  Answer: no pivot\n",
        "```\n",
        "\n",
        "### Plan\n",
        "\n",
        "```\n",
        "Step through all the middle elements, for each:\n",
        "    sum up left of that number\n",
        "    sum up right of that number\n",
        "    if they're equal, return the index\n",
        "\n",
        "if we get here, return -1\n",
        "```\n",
        "\n"
      ]
    },
    {
      "cell_type": "code",
      "metadata": {
        "colab": {
          "base_uri": "https://localhost:8080/"
        },
        "id": "XHyc-eKjhHKe",
        "outputId": "559e3fab-e270-406e-de32-b1d51ccfc000"
      },
      "source": [
        "#[3,9,12,42,20,4]\n",
        "#[10,20,30,40,60]\n",
        "\n",
        "def find_pivot(x): # O(n^2)\n",
        "    # Step through all the middle elements, for each:\n",
        "    for i in range(1, len(x) - 1):  # O(n^2)\n",
        "        # sum up left of that number\n",
        "        left_of_pivot = x[:i]\n",
        "        left_sum = sum(left_of_pivot)\n",
        "\n",
        "        # sum up right of that number\n",
        "        right_of_pivot = x[i+1:]\n",
        "        right_sum = sum(right_of_pivot)\n",
        "\n",
        "        \"\"\"\n",
        "        print(f\"Pivot at index {i}\")\n",
        "        print(f\"Left of that index: {left_of_pivot}\")\n",
        "        print(f\"Right of that index: {right_of_pivot}\")\n",
        "        print(f\"Left sum: {left_sum}\")\n",
        "        print(f\"Right sum: {right_sum}\\n\")\n",
        "        \"\"\"\n",
        "\n",
        "        # if they're equal, return the index\n",
        "        if left_sum == right_sum:\n",
        "            return i\n",
        "    \n",
        "    # if we get here, not found, return -1\n",
        "    return -1\n",
        "\n",
        "def find_pivot2(x): # O(n)\n",
        "    left_sum = x[0]\n",
        "    right_sum = sum(x[2:])\n",
        "\n",
        "    # Step through all the middle elements, for each:\n",
        "    for i in range(1, len(x) - 1):\n",
        "        if left_sum == right_sum:\n",
        "            return i\n",
        "\n",
        "        left_sum += x[i]\n",
        "        right_sum -= x[i+1]\n",
        "\n",
        "    return -1\n",
        "\n",
        "#a = [3,9,12,42,20,4]\n",
        "#a = [10,20,30,40,60]\n",
        "#a = [1,1,1,1,1,1,1,1,2,8]\n",
        "#a = [8,2,1,1,1,1,1,1,1,1]\n",
        "a = [1] * 100000001\n",
        "\n",
        "print(find_pivot2(a))"
      ],
      "execution_count": null,
      "outputs": [
        {
          "output_type": "stream",
          "text": [
            "50000000\n"
          ],
          "name": "stdout"
        }
      ]
    }
  ]
}